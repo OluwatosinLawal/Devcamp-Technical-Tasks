{
 "cells": [
  {
   "cell_type": "code",
   "execution_count": 1,
   "metadata": {},
   "outputs": [
    {
     "name": "stdout",
     "output_type": "stream",
     "text": [
      "Task 8\n",
      "\n",
      "nos_of_3s :  8\n"
     ]
    }
   ],
   "source": [
    "print(\"Task 8\")\n",
    "print(\"\")\n",
    "Given_nos_in_str =\"0, 1, 2, 3, 3, 3, 3, 5, 3,5,6,3,3,32!!!\"\n",
    "nos_of_3s = '3'\n",
    "print (\"nos_of_3s : \", Given_nos_in_str.count(nos_of_3s))"
   ]
  }
 ],
 "metadata": {
  "kernelspec": {
   "display_name": "Python 3",
   "language": "python",
   "name": "python3"
  },
  "language_info": {
   "codemirror_mode": {
    "name": "ipython",
    "version": 3
   },
   "file_extension": ".py",
   "mimetype": "text/x-python",
   "name": "python",
   "nbconvert_exporter": "python",
   "pygments_lexer": "ipython3",
   "version": "3.7.6"
  }
 },
 "nbformat": 4,
 "nbformat_minor": 4
}
