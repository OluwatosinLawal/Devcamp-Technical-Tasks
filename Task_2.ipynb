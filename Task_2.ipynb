{
 "cells": [
  {
   "cell_type": "code",
   "execution_count": 5,
   "metadata": {},
   "outputs": [
    {
     "data": {
      "text/plain": [
       "True"
      ]
     },
     "execution_count": 5,
     "metadata": {},
     "output_type": "execute_result"
    }
   ],
   "source": [
    "#Prime numbers are numbers that are only divisible by 1 and itself \n",
    "def is_it_prime (array):\n",
    "    prime_numbers = True\n",
    "    for item in array:\n",
    "        if item > 1:     #Here we put the formula for the prime number into the code\n",
    "            for num in range (1,9999):\n",
    "                if item%num == 1:\n",
    "                  if item%2 != item%num:\n",
    "                        return False\n",
    "            else:\n",
    "                return True\n",
    "is_it_prime([5])"
   ]
  },
  {
   "cell_type": "code",
   "execution_count": 6,
   "metadata": {},
   "outputs": [
    {
     "data": {
      "text/plain": [
       "False"
      ]
     },
     "execution_count": 6,
     "metadata": {},
     "output_type": "execute_result"
    }
   ],
   "source": [
    "#Prime numbers are numbers that are only divisible by 1 and itself\n",
    "def is_it_prime (array):\n",
    "    prime_numbers = True\n",
    "    for item in array:\n",
    "        if item > 1:     #Here we put the formula for the prime number into the code\n",
    "            for num in range (1,9999):\n",
    "                if item%num == 1:\n",
    "                  if item%2 != item%num:\n",
    "                        return False\n",
    "            else:\n",
    "                return True\n",
    "is_it_prime([60])"
   ]
  }
 ],
 "metadata": {
  "kernelspec": {
   "display_name": "Python 3",
   "language": "python",
   "name": "python3"
  },
  "language_info": {
   "codemirror_mode": {
    "name": "ipython",
    "version": 3
   },
   "file_extension": ".py",
   "mimetype": "text/x-python",
   "name": "python",
   "nbconvert_exporter": "python",
   "pygments_lexer": "ipython3",
   "version": "3.7.6"
  }
 },
 "nbformat": 4,
 "nbformat_minor": 4
}
