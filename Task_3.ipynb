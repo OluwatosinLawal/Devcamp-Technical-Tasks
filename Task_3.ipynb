{
 "cells": [
  {
   "cell_type": "code",
   "execution_count": 1,
   "metadata": {},
   "outputs": [
    {
     "data": {
      "text/plain": [
       "[3, 5, 7, 9, 11, 13, 15]"
      ]
     },
     "execution_count": 1,
     "metadata": {},
     "output_type": "execute_result"
    }
   ],
   "source": [
    "#Prime numbers are numbers that are only divisible by 1 and itself\n",
    "#the solution from task_2 will be used to iterate through the arrays\n",
    "\n",
    "def is_it_prime (array):\n",
    "    array_list = []\n",
    "    prime_numbers = True\n",
    "    for item in array:\n",
    "        if item > 1:        #Again, we put the formula for the prime number into the code\n",
    "            if item/item == 1:\n",
    "                if item/1 == item:\n",
    "                    if item%2 != 0:\n",
    "                        array_list.append(item)\n",
    "    return array_list\n",
    "is_it_prime([1,2,3,4,5,6,7,8,9,10,11,12,13,14,15])     #As we know, 1 is not a prime number\n"
   ]
  }
 ],
 "metadata": {
  "kernelspec": {
   "display_name": "Python 3",
   "language": "python",
   "name": "python3"
  },
  "language_info": {
   "codemirror_mode": {
    "name": "ipython",
    "version": 3
   },
   "file_extension": ".py",
   "mimetype": "text/x-python",
   "name": "python",
   "nbconvert_exporter": "python",
   "pygments_lexer": "ipython3",
   "version": "3.7.6"
  }
 },
 "nbformat": 4,
 "nbformat_minor": 4
}
