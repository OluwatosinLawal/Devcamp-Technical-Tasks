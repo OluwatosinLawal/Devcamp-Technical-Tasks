{
 "cells": [
  {
   "cell_type": "code",
   "execution_count": 1,
   "metadata": {},
   "outputs": [
    {
     "data": {
      "text/plain": [
       "(30, 25)"
      ]
     },
     "execution_count": 1,
     "metadata": {},
     "output_type": "execute_result"
    }
   ],
   "source": [
    "def sum_of_arrays (arrays): #This defines the function of summing an array\n",
    "    even_sum = 0            #This gives the initial value for the even sum\n",
    "    odd_sum = 0             #This gives the initial value for the odd sum\n",
    "    for numbers in arrays:  #This iterates the array i.e continuosly selects number from the beginning till the end\n",
    "        if numbers%2 == 0:   #The if statement helps condition the number if it is an even number\n",
    "            even_sum = even_sum + numbers\n",
    "        else:           #This helps to condition the number if it returns false\n",
    "                odd_sum = odd_sum + numbers\n",
    "    return even_sum, odd_sum\n",
    "            \n",
    "sum_of_arrays([1,2,3,4,5,6,7,8,9,10])"
   ]
  }
 ],
 "metadata": {
  "kernelspec": {
   "display_name": "Python 3",
   "language": "python",
   "name": "python3"
  },
  "language_info": {
   "codemirror_mode": {
    "name": "ipython",
    "version": 3
   },
   "file_extension": ".py",
   "mimetype": "text/x-python",
   "name": "python",
   "nbconvert_exporter": "python",
   "pygments_lexer": "ipython3",
   "version": "3.7.6"
  }
 },
 "nbformat": 4,
 "nbformat_minor": 4
}
