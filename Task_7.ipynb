{
 "cells": [
  {
   "cell_type": "code",
   "execution_count": 7,
   "metadata": {},
   "outputs": [
    {
     "name": "stdout",
     "output_type": "stream",
     "text": [
      "Standard Deviation of X is 1.9235384061671346 \n"
     ]
    }
   ],
   "source": [
    "#Here we will get the standard deviation of a sample\n",
    "\n",
    "import statistics     #To import the statistics module\n",
    "X = [3,2,5,4,7]       #The sample will be called X with some given numbers\n",
    "\n",
    "print (\"Standard Deviation of X is % s \" % (statistics.stdev(X)))"
   ]
  }
 ],
 "metadata": {
  "kernelspec": {
   "display_name": "Python 3",
   "language": "python",
   "name": "python3"
  },
  "language_info": {
   "codemirror_mode": {
    "name": "ipython",
    "version": 3
   },
   "file_extension": ".py",
   "mimetype": "text/x-python",
   "name": "python",
   "nbconvert_exporter": "python",
   "pygments_lexer": "ipython3",
   "version": "3.7.6"
  }
 },
 "nbformat": 4,
 "nbformat_minor": 4
}
